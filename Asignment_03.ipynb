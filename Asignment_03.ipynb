{
  "cells": [
    {
      "cell_type": "markdown",
      "metadata": {
        "id": "view-in-github",
        "colab_type": "text"
      },
      "source": [
        "<a href=\"https://colab.research.google.com/github/MuqsAli/Data_Science_101_B02/blob/main/Asignment_03.ipynb\" target=\"_parent\"><img src=\"https://colab.research.google.com/assets/colab-badge.svg\" alt=\"Open In Colab\"/></a>"
      ]
    },
    {
      "cell_type": "markdown",
      "metadata": {
        "id": "EVDUB_AvnZjp"
      },
      "source": [
        "1) A company decided to give bonus of 5% to employee if his/her year of service is more than 5 years.\n",
        "Ask user for their salary and year of service and print the net bonus amount."
      ]
    },
    {
      "cell_type": "code",
      "execution_count": null,
      "metadata": {
        "id": "0AUdNIupnZjs"
      },
      "outputs": [],
      "source": [
        "Name = input(\"Name: \")\n",
        "Salary = int(input(\"Salary: \"))\n",
        "Year = int(input(\"Year of Service: \"))\n",
        "\n",
        "if Year>5:\n",
        "    bonus= Salary*0.05\n",
        "    print (\"Congratulations! You are eligible for a bonus of Rs \",bonus)\n",
        "else:\n",
        "    print(\"Sorry, you are not eligible for a bonus\")"
      ]
    },
    {
      "cell_type": "markdown",
      "metadata": {
        "id": "ktLigzrYnZjv"
      },
      "source": [
        "\n",
        "2) Write a program to check whether a person is eligible for voting or not. (accept age from user) if age is greater than 17 eligible otherwise not eligible"
      ]
    },
    {
      "cell_type": "code",
      "execution_count": null,
      "metadata": {
        "id": "Kf4u0-xnnZjw"
      },
      "outputs": [],
      "source": [
        "name = input(\"Name: \")\n",
        "age = int(input(\"Age: \"))\n",
        "if age>17 :\n",
        "    print(\"You are eligible.\")\n",
        "else:\n",
        "    print(\"You are not eligible.\")"
      ]
    },
    {
      "cell_type": "markdown",
      "metadata": {
        "id": "gLhYcosdnZjw"
      },
      "source": [
        "\n",
        "3) Write a program to check whether a number entered by user is even or odd."
      ]
    },
    {
      "cell_type": "code",
      "execution_count": null,
      "metadata": {
        "id": "gQiAeDi2nZjw"
      },
      "outputs": [],
      "source": [
        "number = int(input(\"Enter a number: \"))\n",
        "if number%2==0 :\n",
        "    print(\"The number is Even.\")\n",
        "else:\n",
        "    print(\"The number is Odd.\")"
      ]
    },
    {
      "cell_type": "markdown",
      "metadata": {
        "id": "Hdx9q7lNnZjx"
      },
      "source": [
        "4) Write a program to check whether a number is divisible by 7 or not.\n",
        "Show Answer"
      ]
    },
    {
      "cell_type": "code",
      "execution_count": null,
      "metadata": {
        "id": "ZKruggemnZjx"
      },
      "outputs": [],
      "source": [
        "number = int(input(\"Enter a number: \"))\n",
        "if number%7==0:\n",
        "    print(\"Divisible by 7\")\n",
        "else:\n",
        "    print(\"Not divisible by 7\")"
      ]
    },
    {
      "cell_type": "markdown",
      "metadata": {
        "id": "stEelwtnnZjy"
      },
      "source": [
        "5) Write a program to display\n",
        "\"Hello\" if a number entered by user is a multiple of five , otherwise print \"Bye\"."
      ]
    },
    {
      "cell_type": "code",
      "execution_count": null,
      "metadata": {
        "id": "Mpf3xUFanZjy"
      },
      "outputs": [],
      "source": [
        "num = int(input(\"Enter a number: \"))\n",
        "if num%5==0:\n",
        "    print(\"Hello\")\n",
        "else:\n",
        "    print(\"Bye\")"
      ]
    },
    {
      "cell_type": "markdown",
      "metadata": {
        "id": "rKXRsJzynZjy"
      },
      "source": [
        "7) Write a program to display the last digit of a number.\n"
      ]
    },
    {
      "cell_type": "code",
      "source": [
        "num = int(input(\"Enter a number: \"))\n",
        "last_digit = num % 10\n",
        "print(\"Last digit of the number:\", last_digit)\n"
      ],
      "metadata": {
        "colab": {
          "base_uri": "https://localhost:8080/"
        },
        "id": "eahI_lka_3d6",
        "outputId": "e791d2b5-23e3-47c3-9fdb-75788c257b34"
      },
      "execution_count": 27,
      "outputs": [
        {
          "output_type": "stream",
          "name": "stdout",
          "text": [
            "Enter a number: 99977\n",
            "Last digit of the number: 7\n"
          ]
        }
      ]
    },
    {
      "cell_type": "markdown",
      "metadata": {
        "id": "RcxkXtBlnZj0"
      },
      "source": [
        "9) Take values of length and breadth of a rectangle from user and print if it is square or rectangle."
      ]
    },
    {
      "cell_type": "code",
      "execution_count": 25,
      "metadata": {
        "colab": {
          "base_uri": "https://localhost:8080/"
        },
        "id": "IXrMdFganZj0",
        "outputId": "cf24025d-8ea6-4eff-bac2-5b879027682f"
      },
      "outputs": [
        {
          "output_type": "stream",
          "name": "stdout",
          "text": [
            "Length: 7\n",
            "Breadth: 6\n",
            "It is a Rectangle\n"
          ]
        }
      ],
      "source": [
        "length = float(input(\"Length: \"))\n",
        "breadth = float(input(\"Breadth: \"))\n",
        "if length == breadth:\n",
        "    print(\"It is a Square\")\n",
        "else:\n",
        "    print(\"It is a Rectangle\")"
      ]
    },
    {
      "cell_type": "markdown",
      "metadata": {
        "id": "V5rJUjErnZj1"
      },
      "source": [
        "10) Take two int values from user and print greatest among them."
      ]
    },
    {
      "cell_type": "code",
      "execution_count": 24,
      "metadata": {
        "colab": {
          "base_uri": "https://localhost:8080/"
        },
        "id": "8TPdZm0jnZj1",
        "outputId": "5379e66a-2eff-415f-b5a5-1d50a0340fef"
      },
      "outputs": [
        {
          "output_type": "stream",
          "name": "stdout",
          "text": [
            "Number 1: 8\n",
            "Number 2: 5\n",
            "8\n"
          ]
        }
      ],
      "source": [
        "num1 = int(input(\"Number 1: \"))\n",
        "num2 = int(input(\"Number 2: \"))\n",
        "if num1>num2:\n",
        "    print(num1)\n",
        "elif num1==num2:\n",
        "    print(\"Number 1 and Number 2 are equal.\")\n",
        "else:\n",
        "    print(num2)"
      ]
    },
    {
      "cell_type": "markdown",
      "metadata": {
        "id": "X2aX_cfrnZj1"
      },
      "source": [
        "711) A shop will give discount of 10% if the cost of purchased quantity is more than 1000.\n",
        "Ask user for quantity\n",
        "Suppose, one unit will cost 100.\n",
        "Judge and print total cost for user."
      ]
    },
    {
      "cell_type": "code",
      "execution_count": 22,
      "metadata": {
        "colab": {
          "base_uri": "https://localhost:8080/"
        },
        "id": "5pXFLzsInZj2",
        "outputId": "8f446c1b-3ce4-46b5-b8ff-b52735b8b9be"
      },
      "outputs": [
        {
          "output_type": "stream",
          "name": "stdout",
          "text": [
            "Enter the quantity of the item: 66\n",
            "Your total cost without discount is 6600 USD\n"
          ]
        }
      ],
      "source": [
        "quantity = int(input(\"Enter the quantity of the item: \"))\n",
        "if quantity>1000:\n",
        "    discount= 100*0.01\n",
        "    discounted_price= (100*quantity)-discount\n",
        "    print(\"Your discounted price is\",discounted_price,\"USD\")\n",
        "else:\n",
        "    price= quantity*100\n",
        "    print(\"Your total cost without discount is\",price,\"USD\")"
      ]
    },
    {
      "cell_type": "markdown",
      "metadata": {
        "id": "RBiGHsitnZj3"
      },
      "source": [
        "12) A school has following rules for grading system:\n",
        "\n",
        "a. Below 25 - F\n",
        "\n",
        "b. 25 to 45 - E\n",
        "\n",
        "c. 45 to 50 - D\n",
        "\n",
        "d. 50 to 60 - C\n",
        "\n",
        "e. 60 to 80 - B\n",
        "\n",
        "f. Above 80 - A\n",
        "\n",
        "Ask user to enter marks and print the corresponding grade."
      ]
    },
    {
      "cell_type": "code",
      "execution_count": 2,
      "metadata": {
        "colab": {
          "base_uri": "https://localhost:8080/"
        },
        "id": "bmp03FQXnZj7",
        "outputId": "897894a5-f111-41ac-b6c0-18d34ba20fcf"
      },
      "outputs": [
        {
          "output_type": "stream",
          "name": "stdout",
          "text": [
            "Enter marks: 445.66\n",
            "Please enter correct marks!\n"
          ]
        }
      ],
      "source": [
        "marks= float(input(\"Enter marks: \"))\n",
        "if marks>100:\n",
        "    print(\"Please enter correct marks!\")\n",
        "elif marks>80 or marks==100:\n",
        "    print(\"A Grade\")\n",
        "elif marks>60 or marks==80:\n",
        "    print(\"B Grade\")\n",
        "elif marks>50 or marks==60:\n",
        "    print(\"C Grade\")\n",
        "elif marks>45 or marks==50:\n",
        "    print(\"D Grade\")\n",
        "elif marks>25 or marks==45:\n",
        "    print(\"E Grade\")\n",
        "elif marks>=0 or marks==25:\n",
        "    print(\"F Grade\")\n",
        "else:\n",
        "    print(\"Invalid Marks Entered!\")"
      ]
    },
    {
      "cell_type": "markdown",
      "metadata": {
        "id": "YpXukVhdnZj7"
      },
      "source": [
        "14)A student will not be allowed to sit in exam if his/her attendence is less than 75%.\n",
        "\n",
        "Take following input from user\n",
        "\n",
        "Number of classes held\n",
        "\n",
        "Number of classes attended.\n",
        "\n",
        "And print\n",
        "\n",
        "percentage of class attended\n",
        "\n",
        "Is student is allowed to sit in exam or not.\n"
      ]
    },
    {
      "cell_type": "code",
      "execution_count": null,
      "metadata": {
        "id": "S7j0n3ESnZj8"
      },
      "outputs": [],
      "source": [
        "classes_held = int(input(\"Number of classes held: \"))\n",
        "classe_attended = int(input(\"Number of classes attended: \"))\n",
        "percentage= (classe_attended/classes_held)*100\n",
        "if percentage < 75:\n",
        "    print(\"You are not allowed to sit for exam!\")\n",
        "else:\n",
        "    print(\"You are allowed to sit for exam!\")"
      ]
    },
    {
      "cell_type": "markdown",
      "metadata": {
        "id": "WTOt-br8nZj8"
      },
      "source": [
        "15) Modify the above question to allow student to sit if he/she has medical cause. Ask user if he/she has medical cause or not ( 'Y' or 'N' ) and print accordingly."
      ]
    },
    {
      "cell_type": "code",
      "execution_count": null,
      "metadata": {
        "id": "zhfrX5AwnZj8"
      },
      "outputs": [],
      "source": [
        "classes_held = int(input(\"Number of classes held: \"))\n",
        "classe_attended = int(input(\"Number of classes attended: \"))\n",
        "percentage= (classe_attended/classes_held)*100\n",
        "\n",
        "if percentage < 75:\n",
        "    medical_issue= input(\"Do you have any medical issues? Y/N: \")\n",
        "    if medical_issue== \"Yes\" or medical_issue== \"yes\" or medical_issue==\"Y\" or medical_issue==\"y\":\n",
        "        print(\"You are allowed to sit for exam!\")\n",
        "    elif medical_issue== \"No\" or medical_issue== \"no\" or medical_issue==\"N\" or medical_issue==\"n\":\n",
        "        print(\"You are not allowed to sit for exam!\")\n",
        "    else:\n",
        "        print(\"Invalid input\")\n",
        "else:\n",
        "    print(\"You are allowed to sit for exam!\")"
      ]
    },
    {
      "cell_type": "markdown",
      "metadata": {
        "id": "-OsDQSCSnZj9"
      },
      "source": [
        "16) Write a program to check if a year is leap year or not.\n",
        "\n",
        "If a year is divisible by 4 then it is leap year but if the year is century year like 2000, 1900, 2100 then it must be divisible by 400."
      ]
    },
    {
      "cell_type": "code",
      "execution_count": 3,
      "metadata": {
        "colab": {
          "base_uri": "https://localhost:8080/"
        },
        "id": "xT_bAMgQnZj9",
        "outputId": "df07312b-3bb1-470d-b98c-2e9696b7c41f"
      },
      "outputs": [
        {
          "output_type": "stream",
          "name": "stdout",
          "text": [
            "Enter a year: 2000\n",
            "2000  is a leap year.\n"
          ]
        }
      ],
      "source": [
        "year = int(input(\"Enter a year: \"))\n",
        "if (year % 4 == 0 and year % 100 != 0) or year % 400 == 0:\n",
        "    print(year,\" is a leap year.\")\n",
        "else:\n",
        "    print(year,\"  is not a leap year.\")\n"
      ]
    },
    {
      "cell_type": "markdown",
      "metadata": {
        "id": "xRDq01UUnZj9"
      },
      "source": [
        "17) Ask user to enter age, gender ( M or F ), marital status ( Y or N ) and then using following rules print their place of service.\n",
        "\n",
        "if employee is female, then she will work only in urban areas.\n",
        "\n",
        "if employee is a male and age is in between 20 to 40 then he may work in anywhere\n",
        "\n",
        "if employee is male and age is in between 40 t0 60 then he will work in urban areas only.\n",
        "\n",
        "And any other input of age should print \"ERROR\""
      ]
    },
    {
      "cell_type": "code",
      "execution_count": 9,
      "metadata": {
        "colab": {
          "base_uri": "https://localhost:8080/"
        },
        "id": "ZdvcsEfEnZj-",
        "outputId": "a25ff05f-4f4c-4cf8-e69e-c4753f0d3ea8"
      },
      "outputs": [
        {
          "output_type": "stream",
          "name": "stdout",
          "text": [
            "Age: 45\n",
            "Gender (M/F): F\n",
            "Marital status (S/M): M\n",
            "You will work in urban areas only!\n"
          ]
        }
      ],
      "source": [
        "age= int(input(\"Age: \"))\n",
        "gender= input(\"Gender (M/F): \")\n",
        "m_status= input(\"Marital status (S/M): \")\n",
        "if gender== \"F\":\n",
        "  print(\"You will work in urban areas only!\")\n",
        "elif gender==\"M\":\n",
        "  if age>= 20 or age<=40:\n",
        "    print(\"You can work anywhere!\")\n",
        "  elif age>40 or age<=60:\n",
        "    print(\"You will work in urban areas only!\")\n",
        "  else:\n",
        "    print(\"ERROR!\")"
      ]
    },
    {
      "cell_type": "markdown",
      "metadata": {
        "id": "2KkiXe1hnZj-"
      },
      "source": [
        "6) Write a program to calculate the electricity bill (accept number of unit from user) according to the following criteria :\n",
        "     Unit                                                     Price  \n",
        "uptp 100 units                                             no charge\n",
        "Next 200 units                                              Rs 5 per unit\n",
        "After 200 units                                             Rs 10 per unit\n",
        "(For example if input unit is 350 than total bill amount is Rs.3500\n",
        "(For example if input unit is 97 than total bill amount is Rs.0\n",
        "(For example if input unit is 150 than total bill amount is Rs.750"
      ]
    },
    {
      "cell_type": "code",
      "source": [
        "units = int(input(\"Enter the units: \"))\n",
        "if units == 0 or units <= 100:\n",
        "  print(\"Electricity bill = 0.\")\n",
        "elif units > 100 or units <= 200:\n",
        "  bill = units*5\n",
        "  print(\"Electricity bill = \",bill)\n",
        "elif units > 200:\n",
        "  bill = units*10\n",
        "  print(\"Electricity bill = \",bill)\n",
        "else:\n",
        "  print(\"Invalid Input!\")"
      ],
      "metadata": {
        "colab": {
          "base_uri": "https://localhost:8080/"
        },
        "id": "vwYBGpLl10B2",
        "outputId": "a6ae846c-7d96-4623-85b5-e50bd37894dc"
      },
      "execution_count": 18,
      "outputs": [
        {
          "output_type": "stream",
          "name": "stdout",
          "text": [
            "Enter the units: 256\n",
            "Electricity bill =  1280\n"
          ]
        }
      ]
    },
    {
      "cell_type": "markdown",
      "metadata": {
        "id": "mLOXv3XZnZj_"
      },
      "source": [
        "\n",
        "13) Take input of age of 3 people by user and determine oldest and youngest among them."
      ]
    },
    {
      "cell_type": "code",
      "execution_count": 21,
      "metadata": {
        "colab": {
          "base_uri": "https://localhost:8080/"
        },
        "id": "Xh87GenynZj_",
        "outputId": "12be86f5-056b-45a4-f625-8e86742b5769"
      },
      "outputs": [
        {
          "output_type": "stream",
          "name": "stdout",
          "text": [
            "Adil's age =33\n",
            "Akbar's age = 23\n",
            "Ali's age = 21\n",
            "Adil is the oldest!\n",
            "Ali is the youngest!\n"
          ]
        }
      ],
      "source": [
        "age1 = int(input(\"Adil's age =\"))\n",
        "age2 = int(input(\"Akbar's age = \"))\n",
        "age3 = int(input(\"Ali's age = \"))\n",
        "\n",
        "if age1>age2 and age1>age3:\n",
        "  print(\"Adil is the oldest!\")\n",
        "  if age2<age3:\n",
        "    print(\"Akbar is the youngest!\")\n",
        "  else:\n",
        "    print(\"Ali is the youngest!\")\n",
        "elif age2>age1 and age2>age3:\n",
        "  print(\"Akbar is the oldest!\")\n",
        "  if age1<age3:\n",
        "    print(\"Adil is the youngest!\")\n",
        "  else:\n",
        "    print(\"Ali is the youngest!\")\n",
        "elif age3>age1 and age3>age1:\n",
        "  print(\"Ali is the oldest!\")\n",
        "  if age1<age2:\n",
        "    print(\"Adil is the youngest!\")\n",
        "  else:\n",
        "    print(\"Akbar is the youngest!\")\n",
        "else:\n",
        "  print(\"Invalid Input!\")"
      ]
    },
    {
      "cell_type": "code",
      "source": [],
      "metadata": {
        "id": "pUdbrmGc-VIx"
      },
      "execution_count": null,
      "outputs": []
    }
  ],
  "metadata": {
    "kernelspec": {
      "display_name": "Python 3 (ipykernel)",
      "language": "python",
      "name": "python3"
    },
    "language_info": {
      "codemirror_mode": {
        "name": "ipython",
        "version": 3
      },
      "file_extension": ".py",
      "mimetype": "text/x-python",
      "name": "python",
      "nbconvert_exporter": "python",
      "pygments_lexer": "ipython3",
      "version": "3.11.5"
    },
    "colab": {
      "provenance": [],
      "include_colab_link": true
    }
  },
  "nbformat": 4,
  "nbformat_minor": 0
}